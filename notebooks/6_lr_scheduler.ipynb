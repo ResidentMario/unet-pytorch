{
 "cells": [
  {
   "cell_type": "markdown",
   "metadata": {},
   "source": [
    "Our next addition to the model is a learning rate scheduler. Specifically, we'll use the one-cycle learning rate policy."
   ]
  },
  {
   "cell_type": "code",
   "execution_count": 20,
   "metadata": {},
   "outputs": [
    {
     "name": "stdout",
     "output_type": "stream",
     "text": [
      "Overwriting ../models/model_6.py\n"
     ]
    }
   ],
   "source": [
    "%%writefile ../models/model_6.py\n",
    "\n",
    "# number of epochs of training\n",
    "NUM_EPOCHS = 50\n",
    "\n",
    "import torch\n",
    "from torchvision.datasets import ImageFolder\n",
    "from torch.utils.data import Dataset, DataLoader\n",
    "from PIL import Image\n",
    "import numpy as np\n",
    "from torchvision import transforms\n",
    "\n",
    "\n",
    "class BobRossSegmentedImagesDataset(Dataset):\n",
    "    def __init__(self, dataroot):\n",
    "        super().__init__()\n",
    "        self.dataroot = dataroot\n",
    "        self.imgs = list((self.dataroot / 'train' / 'images').rglob('*.png'))\n",
    "        self.segs = list((self.dataroot / 'train' / 'labels').rglob('*.png'))\n",
    "        self.transform = transforms.Compose([\n",
    "            transforms.Resize((164, 164)),\n",
    "            transforms.Pad(46, padding_mode='reflect'),\n",
    "            transforms.RandomHorizontalFlip(),\n",
    "            transforms.ToTensor(),\n",
    "            transforms.Normalize(\n",
    "                            mean=(0.459387, 0.46603974, 0.4336706),\n",
    "                            std=(0.06098535, 0.05802868, 0.08737113)\n",
    "            )\n",
    "        ])\n",
    "        self.color_key = {\n",
    "            3 : 0,\n",
    "            5: 1,\n",
    "            10: 2,\n",
    "            14: 3,\n",
    "            17: 4,\n",
    "            18: 5,\n",
    "            22: 6,\n",
    "            27: 7,\n",
    "            61: 8\n",
    "        }\n",
    "        assert len(self.imgs) == len(self.segs)\n",
    "        # TODO: remean images to N(0, 1)?\n",
    "        \n",
    "    def __len__(self):\n",
    "        return len(self.imgs)\n",
    "    \n",
    "    def __getitem__(self, i):\n",
    "        def translate(x):\n",
    "            return self.color_key[x]\n",
    "        translate = np.vectorize(translate)\n",
    "        \n",
    "        img = Image.open(self.imgs[i])\n",
    "        img = self.transform(img)\n",
    "        \n",
    "        seg = Image.open(self.segs[i])\n",
    "        seg = seg.resize((256, 256))\n",
    "        \n",
    "        # Labels are in the ADE20K ontology and are not consequetive,\n",
    "        # we have to apply a remap operation over the labels in a just-in-time\n",
    "        # manner. This slows things down, but it's fine, this is just a demo\n",
    "        # anyway.\n",
    "        seg = translate(np.array(seg)).astype('int64')\n",
    "        \n",
    "        # One-hot encode the segmentation mask.\n",
    "        # def ohe_mat(segmap):\n",
    "        #     return np.array(\n",
    "        #         list(\n",
    "        #             np.array(segmap) == i for i in range(9)\n",
    "        #         )\n",
    "        #     ).astype(int).reshape(9, 256, 256)\n",
    "        # seg = ohe_mat(seg)\n",
    "        \n",
    "        # Additionally, the original UNet implementation outputs a segmentation map\n",
    "        # for a subset of the overall image, not the image as a whole! With this input\n",
    "        # size the segmentation map targeted is a (164, 164) center crop.\n",
    "        seg = seg[46:210, 46:210]\n",
    "        \n",
    "        return img, seg\n",
    "    \n",
    "from torch import nn\n",
    "\n",
    "class UNet(nn.Module):\n",
    "    def __init__(self):\n",
    "        super().__init__()\n",
    "        self.conv_1_1 = nn.Conv2d(3, 64, 3)\n",
    "        torch.nn.init.kaiming_normal_(self.conv_1_1.weight)\n",
    "        self.relu_1_2 = nn.ReLU()\n",
    "        self.norm_1_3 = nn.BatchNorm2d(64)\n",
    "        self.conv_1_4 = nn.Conv2d(64, 64, 3)\n",
    "        torch.nn.init.kaiming_normal_(self.conv_1_4.weight)\n",
    "        self.relu_1_5 = nn.ReLU()\n",
    "        self.norm_1_6 = nn.BatchNorm2d(64)\n",
    "        self.pool_1_7 = nn.MaxPool2d(2)\n",
    "        \n",
    "        self.conv_2_1 = nn.Conv2d(64, 128, 3)\n",
    "        torch.nn.init.kaiming_normal_(self.conv_2_1.weight)        \n",
    "        self.relu_2_2 = nn.ReLU()\n",
    "        self.norm_2_3 = nn.BatchNorm2d(128)\n",
    "        self.conv_2_4 = nn.Conv2d(128, 128, 3)\n",
    "        torch.nn.init.kaiming_normal_(self.conv_2_4.weight)        \n",
    "        self.relu_2_5 = nn.ReLU()\n",
    "        self.norm_2_6 = nn.BatchNorm2d(128)\n",
    "        self.pool_2_7 = nn.MaxPool2d(2)\n",
    "        \n",
    "        self.conv_3_1 = nn.Conv2d(128, 256, 3)\n",
    "        torch.nn.init.kaiming_normal_(self.conv_3_1.weight)\n",
    "        self.relu_3_2 = nn.ReLU()\n",
    "        self.norm_3_3 = nn.BatchNorm2d(256)\n",
    "        self.conv_3_4 = nn.Conv2d(256, 256, 3)\n",
    "        torch.nn.init.kaiming_normal_(self.conv_3_4.weight)\n",
    "        self.relu_3_5 = nn.ReLU()\n",
    "        self.norm_3_6 = nn.BatchNorm2d(256)\n",
    "        self.pool_3_7 = nn.MaxPool2d(2)\n",
    "        \n",
    "        self.conv_4_1 = nn.Conv2d(256, 512, 3)\n",
    "        torch.nn.init.kaiming_normal_(self.conv_4_1.weight)\n",
    "        self.relu_4_2 = nn.ReLU()\n",
    "        self.norm_4_3 = nn.BatchNorm2d(512)\n",
    "        self.conv_4_4 = nn.Conv2d(512, 512, 3)\n",
    "        torch.nn.init.kaiming_normal_(self.conv_4_4.weight)\n",
    "        self.relu_4_5 = nn.ReLU()\n",
    "        self.norm_4_6 = nn.BatchNorm2d(512)\n",
    "        \n",
    "        # deconv is the '2D transposed convolution operator'\n",
    "        self.deconv_5_1 = nn.ConvTranspose2d(512, 256, (2, 2), 2)\n",
    "        # 61x61 -> 48x48 crop\n",
    "        self.c_crop_5_2 = lambda x: x[:, :, 6:54, 6:54]\n",
    "        self.concat_5_3 = lambda x, y: torch.cat((x, y), dim=1)\n",
    "        self.conv_5_4 = nn.Conv2d(512, 256, 3)\n",
    "        torch.nn.init.kaiming_normal_(self.conv_5_4.weight)        \n",
    "        self.relu_5_5 = nn.ReLU()\n",
    "        self.norm_5_6 = nn.BatchNorm2d(256)\n",
    "        self.conv_5_7 = nn.Conv2d(256, 256, 3)\n",
    "        torch.nn.init.kaiming_normal_(self.conv_5_7.weight)\n",
    "        self.relu_5_8 = nn.ReLU()\n",
    "        self.norm_5_9 = nn.BatchNorm2d(256)\n",
    "        \n",
    "        self.deconv_6_1 = nn.ConvTranspose2d(256, 128, (2, 2), 2)\n",
    "        # 121x121 -> 88x88 crop\n",
    "        self.c_crop_6_2 = lambda x: x[:, :, 17:105, 17:105]\n",
    "        self.concat_6_3 = lambda x, y: torch.cat((x, y), dim=1)\n",
    "        self.conv_6_4 = nn.Conv2d(256, 128, 3)\n",
    "        torch.nn.init.kaiming_normal_(self.conv_6_4.weight)\n",
    "        self.relu_6_5 = nn.ReLU()\n",
    "        self.norm_6_6 = nn.BatchNorm2d(128)\n",
    "        self.conv_6_7 = nn.Conv2d(128, 128, 3)\n",
    "        torch.nn.init.kaiming_normal_(self.conv_6_7.weight)\n",
    "        self.relu_6_8 = nn.ReLU()\n",
    "        self.norm_6_9 = nn.BatchNorm2d(128)\n",
    "        \n",
    "        self.deconv_7_1 = nn.ConvTranspose2d(128, 64, (2, 2), 2)\n",
    "        # 252x252 -> 168x168 crop\n",
    "        self.c_crop_7_2 = lambda x: x[:, :, 44:212, 44:212]\n",
    "        self.concat_7_3 = lambda x, y: torch.cat((x, y), dim=1)\n",
    "        self.conv_7_4 = nn.Conv2d(128, 64, 3)\n",
    "        torch.nn.init.kaiming_normal_(self.conv_7_4.weight)\n",
    "        self.relu_7_5 = nn.ReLU()\n",
    "        self.norm_7_6 = nn.BatchNorm2d(64)\n",
    "        self.conv_7_7 = nn.Conv2d(64, 64, 3)\n",
    "        torch.nn.init.kaiming_normal_(self.conv_7_7.weight)        \n",
    "        self.relu_7_8 = nn.ReLU()\n",
    "        self.norm_7_9 = nn.BatchNorm2d(64)\n",
    "        \n",
    "        # 1x1 conv ~= fc; n_classes = 9\n",
    "        self.conv_8_1 = nn.Conv2d(64, 9, 1)\n",
    "\n",
    "    def forward(self, x):\n",
    "        x = self.conv_1_1(x)\n",
    "        x = self.relu_1_2(x)\n",
    "        x = self.norm_1_3(x)\n",
    "        x = self.conv_1_4(x)\n",
    "        x = self.relu_1_5(x)\n",
    "        x_residual_1 = self.norm_1_6(x)\n",
    "        x = self.pool_1_7(x_residual_1)\n",
    "        \n",
    "        x = self.conv_2_1(x)\n",
    "        x = self.relu_2_2(x)\n",
    "        x = self.norm_2_3(x)\n",
    "        x = self.conv_2_4(x)\n",
    "        x = self.relu_2_5(x)\n",
    "        x_residual_2 = self.norm_2_6(x)\n",
    "        x = self.pool_2_7(x_residual_2)\n",
    "        \n",
    "        x = self.conv_3_1(x)\n",
    "        x = self.relu_3_2(x)\n",
    "        x = self.norm_3_3(x)\n",
    "        x = self.conv_3_4(x)\n",
    "        x = self.relu_3_5(x)\n",
    "        x_residual_3 = self.norm_3_6(x)\n",
    "        x = self.pool_3_7(x_residual_3)\n",
    "        \n",
    "        x = self.conv_4_1(x)\n",
    "        x = self.relu_4_2(x)\n",
    "        x = self.norm_4_3(x)        \n",
    "        x = self.conv_4_4(x)\n",
    "        x = self.relu_4_5(x)\n",
    "        x = self.norm_4_6(x)\n",
    "        \n",
    "        x = self.deconv_5_1(x)\n",
    "        x = self.concat_5_3(self.c_crop_5_2(x_residual_3), x)\n",
    "        x = self.conv_5_4(x)\n",
    "        x = self.relu_5_5(x)\n",
    "        x = self.norm_5_6(x)\n",
    "        x = self.conv_5_7(x)\n",
    "        x = self.relu_5_8(x)\n",
    "        x = self.norm_5_9(x)\n",
    "        \n",
    "        x = self.deconv_6_1(x)\n",
    "        x = self.concat_6_3(self.c_crop_6_2(x_residual_2), x)\n",
    "        x = self.conv_6_4(x)\n",
    "        x = self.relu_6_5(x)\n",
    "        x = self.norm_6_6(x)\n",
    "        x = self.conv_6_7(x)\n",
    "        x = self.relu_6_8(x)\n",
    "        x = self.norm_6_9(x)\n",
    "        \n",
    "        x = self.deconv_7_1(x)\n",
    "        x = self.concat_7_3(self.c_crop_7_2(x_residual_1), x)\n",
    "        x = self.conv_7_4(x)\n",
    "        x = self.relu_7_5(x)\n",
    "        x = self.norm_7_6(x)\n",
    "        x = self.conv_7_7(x)\n",
    "        x = self.relu_7_8(x)\n",
    "        x = self.norm_7_9(x)\n",
    "        \n",
    "        x = self.conv_8_1(x)\n",
    "        return x\n",
    "\n",
    "    \n",
    "from pathlib import Path\n",
    "dataroot = Path('/spell/bob-ross-kaggle-dataset/')\n",
    "dataset = BobRossSegmentedImagesDataset(dataroot)\n",
    "dataloader = DataLoader(dataset, shuffle=True, batch_size=8)\n",
    "\n",
    "\n",
    "import numpy as np\n",
    "import torch.optim as optim\n",
    "from sklearn.model_selection import KFold\n",
    "from torch.utils.tensorboard import SummaryWriter\n",
    "\n",
    "\n",
    "writer = SummaryWriter(f'/spell/tensorboards/experiment_6')\n",
    "model = UNet()\n",
    "model.cuda()\n",
    "criterion = nn.CrossEntropyLoss()\n",
    "optimizer = optim.Adam(model.parameters(), lr=0.5)\n",
    "scheduler = optim.lr_scheduler.CosineAnnealingWarmRestarts(optimizer, T_0=32)\n",
    "\n",
    "\n",
    "for epoch in range(NUM_EPOCHS):\n",
    "    losses = []\n",
    "\n",
    "    for i, (batch, segmap) in enumerate(dataloader):\n",
    "        optimizer.zero_grad()\n",
    "        \n",
    "        batch = batch.cuda()\n",
    "        segmap = segmap.cuda()\n",
    "\n",
    "        output = model(batch)\n",
    "        loss = criterion(output, segmap)\n",
    "        loss.backward()\n",
    "        optimizer.step()\n",
    "        scheduler.step()\n",
    "\n",
    "        curr_loss = loss.item()\n",
    "        if i % 50 == 0:\n",
    "            print(\n",
    "                f'Finished epoch {epoch}, batch {i}. Loss: {curr_loss:.3f}.'\n",
    "            )\n",
    "\n",
    "        writer.add_scalar(\n",
    "            'training loss', curr_loss, epoch * len(dataloader) + i\n",
    "        )\n",
    "        losses.append(curr_loss)\n",
    "\n",
    "    print(\n",
    "        f'Finished epoch {epoch}. '\n",
    "        f'avg loss: {np.mean(losses)}; median loss: {np.min(losses)}'\n",
    "    )"
   ]
  },
  {
   "cell_type": "code",
   "execution_count": 10,
   "metadata": {},
   "outputs": [
    {
     "ename": "ImportError",
     "evalue": "cannot import name 'OneCycleLR'",
     "output_type": "error",
     "traceback": [
      "\u001b[0;31m---------------------------------------------------------------------------\u001b[0m",
      "\u001b[0;31mImportError\u001b[0m                               Traceback (most recent call last)",
      "\u001b[0;32m<ipython-input-10-c29eb4d40a11>\u001b[0m in \u001b[0;36m<module>\u001b[0;34m\u001b[0m\n\u001b[0;32m----> 1\u001b[0;31m \u001b[0;32mfrom\u001b[0m \u001b[0mtorch\u001b[0m\u001b[0;34m.\u001b[0m\u001b[0moptim\u001b[0m\u001b[0;34m.\u001b[0m\u001b[0mlr_scheduler\u001b[0m \u001b[0;32mimport\u001b[0m \u001b[0mOneCycleLR\u001b[0m\u001b[0;34m\u001b[0m\u001b[0;34m\u001b[0m\u001b[0m\n\u001b[0m",
      "\u001b[0;31mImportError\u001b[0m: cannot import name 'OneCycleLR'"
     ]
    }
   ],
   "source": [
    "from torch.optim.lr_scheduler import OneCycleLR"
   ]
  },
  {
   "cell_type": "code",
   "execution_count": 12,
   "metadata": {},
   "outputs": [
    {
     "data": {
      "text/plain": [
       "'1.2.0'"
      ]
     },
     "execution_count": 12,
     "metadata": {},
     "output_type": "execute_result"
    }
   ],
   "source": [
    "torch.__version__"
   ]
  },
  {
   "cell_type": "code",
   "execution_count": 8,
   "metadata": {},
   "outputs": [
    {
     "ename": "AttributeError",
     "evalue": "module 'torch.optim.lr_scheduler' has no attribute 'OneCycleLR'",
     "output_type": "error",
     "traceback": [
      "\u001b[0;31m---------------------------------------------------------------------------\u001b[0m",
      "\u001b[0;31mAttributeError\u001b[0m                            Traceback (most recent call last)",
      "\u001b[0;32m<ipython-input-8-e47646023850>\u001b[0m in \u001b[0;36m<module>\u001b[0;34m\u001b[0m\n\u001b[0;32m----> 1\u001b[0;31m \u001b[0mscheduler\u001b[0m \u001b[0;34m=\u001b[0m \u001b[0moptim\u001b[0m\u001b[0;34m.\u001b[0m\u001b[0mlr_scheduler\u001b[0m\u001b[0;34m.\u001b[0m\u001b[0mOneCycleLR\u001b[0m\u001b[0;34m(\u001b[0m\u001b[0moptimizer\u001b[0m\u001b[0;34m,\u001b[0m \u001b[0mmax_lr\u001b[0m\u001b[0;34m=\u001b[0m\u001b[0;36m0.5\u001b[0m\u001b[0;34m)\u001b[0m\u001b[0;34m\u001b[0m\u001b[0;34m\u001b[0m\u001b[0m\n\u001b[0m",
      "\u001b[0;31mAttributeError\u001b[0m: module 'torch.optim.lr_scheduler' has no attribute 'OneCycleLR'"
     ]
    }
   ],
   "source": [
    "scheduler = optim.lr_scheduler.OneCycleLR(optimizer, max_lr=0.5)"
   ]
  },
  {
   "cell_type": "code",
   "execution_count": 3,
   "metadata": {},
   "outputs": [
    {
     "data": {
      "application/vnd.jupyter.widget-view+json": {
       "model_id": "450990e08693473baf063db6982ad181",
       "version_major": 2,
       "version_minor": 0
      },
      "text/plain": [
       "HBox(children=(FloatProgress(value=0.0), HTML(value='')))"
      ]
     },
     "metadata": {},
     "output_type": "display_data"
    },
    {
     "name": "stdout",
     "output_type": "stream",
     "text": [
      "Stopping early, the loss has diverged\n",
      "Learning rate search finished. See the graph with {finder_name}.plot()\n"
     ]
    },
    {
     "data": {
      "image/png": "[encoded data removed]",
      "text/plain": [
       "<Figure size 432x288 with 1 Axes>"
      ]
     },
     "metadata": {
      "needs_background": "light"
     },
     "output_type": "display_data"
    }
   ],
   "source": [
    "from torch_lr_finder import LRFinder\n",
    "\n",
    "lr_finder = LRFinder(model, optimizer, criterion, device=\"cuda\")\n",
    "lr_finder.range_test(dataloader, end_lr=100, num_iter=100)\n",
    "lr_finder.plot()\n",
    "lr_finder.reset()"
   ]
  },
  {
   "cell_type": "markdown",
   "metadata": {},
   "source": [
    "This LR find operation shows that the optimal cyclical learning rate is in the `(0.1, 0.5)` min-max range. I use this information to set the learning rate policy accordingly.\n",
    "\n",
    "Not all learning rate schedulers in PyTorch are **chainable**. Chainable learning rate schedulers are those which may be combined with one another (chained). The one-cycle learning rate scheduler is not chainable. This means that for example it is not possible to combine it with `ReduceLROnPlateau`. At least not trivially...it is possible to do it by staging the training, and using this learning rate scheduler in place of that one late in the training. [See this GH issue](https://github.com/pytorch/pytorch/issues/13022).\n",
    "\n",
    "The one-cycle learning rate scheduler is a new contribution to the package! You need at least PyTorch version 1.3.0 to have it, whilst the default environment in Spell is PyTorch 1.4.0. So we have to add `torch==1.4.0` to our run to get the right version onboarded."
   ]
  },
  {
   "cell_type": "code",
   "execution_count": 6,
   "metadata": {},
   "outputs": [
    {
     "name": "stdout",
     "output_type": "stream",
     "text": [
      "\u001b[0mHello, Aleksey Bilogur!\n",
      "\u001b[0m\u001b[0m"
     ]
    }
   ],
   "source": [
    "!spell login --identity #### --password ####"
   ]
  },
  {
   "cell_type": "code",
   "execution_count": 14,
   "metadata": {},
   "outputs": [
    {
     "name": "stdout",
     "output_type": "stream",
     "text": [
      "\u001b[0m💫 Casting spell #170…\n",
      "\u001b[0m✨ Stop viewing logs with ^C\n",
      "\u001b[0m\u001b[K\u001b[0m\u001b[?25h\u001b[0m✨ Machine_Requested… done -- waiting for a V100 machine.\u001b[0m\u001b[0m\u001b[0m\u001b[0m\u001b[0m\u001b[0m\u001b[0m\u001b[0m\u001b[0m\u001b[0m\u001b[0m\u001b[0m\u001b[0m\u001b[0m\u001b[0m\u001b[0m\u001b[0m\u001b[0m\u001b[0m\u001b[0m\u001b[0m\u001b[0m\u001b[0m\u001b[0m\u001b[0m\u001b[0m\u001b[0m\u001b[0m\u001b[0m\u001b[0m\u001b[0m\u001b[0m\u001b[0m\u001b[0m\u001b[0m\u001b[0m\u001b[0m\u001b[0m\u001b[0m\u001b[0m\u001b[0m\u001b[0m\u001b[0m\n",
      "\u001b[1m\u001b[36m🌟\u001b[0m Building…   Downloading torch-1.4.0-cp36-cp36m-manylinux1_x86_64.whl (753.4 …[0m\u001b[0m\u001b[0m\u001b[0m\u001b[0m\u001b[0m\u001b[0m\u001b[0m\u001b[0m\u001b[0m\u001b[0m\u001b[0m\u001b[0m\u001b[0m\u001b[0m\u001b[0m\u001b[0m\u001b[0m\u001b[0m\u001b[0m\u001b[0m\u001b[0m\u001b[0m^C\n",
      "\u001b[0m\n",
      "\u001b[0m✨ Your run is still running remotely.\n",
      "\u001b[0m✨ Use 'spell kill 170' to terminate your run\n",
      "\u001b[0m✨ Use 'spell logs 170' to view logs again\n",
      "\u001b[0m\u001b[K\u001b[0m\u001b[?25h\u001b[0m\u001b[0m"
     ]
    }
   ],
   "source": [
    "!spell run 'python models/model_6.py'\\\n",
    "    --machine-type 'V100'\\\n",
    "    --pip 'torch==1.4.0'\\\n",
    "    --mount 'uploads/bob-ross-kaggle-dataset':'/spell/bob-ross-kaggle-dataset'\\\n",
    "    --github-url 'https://github.com/ResidentMario/unet-pytorch.git'\\\n",
    "    --tensorboard-dir '/spell/tensorboards/'"
   ]
  },
  {
   "cell_type": "markdown",
   "metadata": {},
   "source": [
    "This failed with \"the NVIDIA driver on your system is too old\". Whoa, that's not good! Unfortunately this means that Spell is incompatible with the one-cycle learning rate scheduler. I will fall back to cosine annealing."
   ]
  }
 ],
 "metadata": {
  "kernelspec": {
   "display_name": "Python 3",
   "language": "python",
   "name": "python3"
  },
  "language_info": {
   "codemirror_mode": {
    "name": "ipython",
    "version": 3
   },
   "file_extension": ".py",
   "mimetype": "text/x-python",
   "name": "python",
   "nbconvert_exporter": "python",
   "pygments_lexer": "ipython3",
   "version": "3.6.9"
  }
 },
 "nbformat": 4,
 "nbformat_minor": 4
}
